{
  "nbformat": 4,
  "nbformat_minor": 0,
  "metadata": {
    "colab": {
      "provenance": [],
      "authorship_tag": "ABX9TyOMJWwnTjCOTS4tT/waPLiC",
      "include_colab_link": true
    },
    "kernelspec": {
      "name": "python3",
      "display_name": "Python 3"
    },
    "language_info": {
      "name": "python"
    }
  },
  "cells": [
    {
      "cell_type": "markdown",
      "metadata": {
        "id": "view-in-github",
        "colab_type": "text"
      },
      "source": [
        "<a href=\"https://colab.research.google.com/github/lhcbernardes/fiap-ia/blob/main/atividade_2.ipynb\" target=\"_parent\"><img src=\"https://colab.research.google.com/assets/colab-badge.svg\" alt=\"Open In Colab\"/></a>"
      ]
    },
    {
      "cell_type": "code",
      "execution_count": 1,
      "metadata": {
        "colab": {
          "base_uri": "https://localhost:8080/"
        },
        "id": "rYRtTSo1W7tM",
        "outputId": "ed056e36-f541-4c14-c68a-2eefcc7264cd"
      },
      "outputs": [
        {
          "output_type": "stream",
          "name": "stdout",
          "text": [
            "Taxa de acerto 100.00%\n"
          ]
        }
      ],
      "source": [
        "#Nesse caso, os dados de treino são características de ações,\n",
        "#e os rótulos são se o preço da ação subiu (1) ou caiu (0).\n",
        "\n",
        "\n",
        "from sklearn.svm import LinearSVC\n",
        "from sklearn.metrics import accuracy_score\n",
        "\n",
        "# Variação diária positiva?\n",
        "# Volume de negociações alto?\n",
        "# Preço de fechamento alto?\n",
        "acao1 = [1, 0, 1]  # AAPL\n",
        "acao2 = [0, 1, 0]  # GOOGL\n",
        "acao3 = [1, 1, 1]  # MSFT\n",
        "acao4 = [0, 0, 1]  # AMZN\n",
        "acao5 = [1, 1, 0]  # TSLA\n",
        "acao6 = [0, 1, 1]  # FB\n",
        "\n",
        "dados_treino = [acao1, acao2, acao3, acao4, acao5, acao6]\n",
        "rotulos_treino = [1, 1, 1, 0, 0, 0]  # 1 indica subida no preço, 0 indica queda no preço\n",
        "\n",
        "# Inicializar o modelo LinearSVC\n",
        "modelo = LinearSVC()\n",
        "modelo.fit(dados_treino, rotulos_treino)\n",
        "\n",
        "# Conjunto de teste\n",
        "teste1 = [1, 0, 0]\n",
        "teste2 = [0, 1, 1]\n",
        "teste3 = [1, 1, 0]\n",
        "\n",
        "dados_teste = [teste1, teste2, teste3]\n",
        "rotulos_teste = [1, 0, 1]  # Valores reais de subida ou queda\n",
        "\n",
        "# Fazer previsões\n",
        "previsoes = modelo.predict(dados_teste)\n",
        "\n",
        "# Avaliar a precisão do modelo\n",
        "taxa_acerto = accuracy_score(rotulos_teste, previsoes)\n",
        "print(\"Taxa de acerto %.2f%%\" % (taxa_acerto * 100))"
      ]
    }
  ]
}