{
  "cells": [
    {
      "cell_type": "markdown",
      "metadata": {
        "id": "view-in-github",
        "colab_type": "text"
      },
      "source": [
        "<a href=\"https://colab.research.google.com/github/lhcbernardes/fiap-ia/blob/main/IA_Emocional_Emocoes.ipynb\" target=\"_parent\"><img src=\"https://colab.research.google.com/assets/colab-badge.svg\" alt=\"Open In Colab\"/></a>"
      ]
    },
    {
      "cell_type": "markdown",
      "id": "f31b27cc",
      "metadata": {
        "id": "f31b27cc"
      },
      "source": [
        "# 🤖💬 Protótipo de IA Emocional — Detecção de Emoções Específicas"
      ]
    },
    {
      "cell_type": "markdown",
      "id": "730b551a",
      "metadata": {
        "id": "730b551a"
      },
      "source": [
        "\n",
        "Este notebook é uma evolução do protótipo anterior, agora detectando **emoções específicas** como alegria, tristeza, raiva, surpresa e mais.\n",
        "\n",
        "---\n",
        "\n",
        "## 📌 O que este projeto faz:\n",
        "- Detecta emoções específicas usando um modelo pré-treinado\n",
        "- Gera respostas personalizadas baseadas na emoção detectada\n",
        "    "
      ]
    },
    {
      "cell_type": "code",
      "execution_count": 9,
      "id": "0f74fa07",
      "metadata": {
        "id": "0f74fa07"
      },
      "outputs": [],
      "source": [
        "\n",
        "# 📌 Instalar bibliotecas necessárias\n",
        "!pip install transformers torch --quiet\n"
      ]
    },
    {
      "cell_type": "markdown",
      "id": "5c4fd175",
      "metadata": {
        "id": "5c4fd175"
      },
      "source": [
        "## 📊 Importar bibliotecas e carregar modelo de emoções"
      ]
    },
    {
      "cell_type": "code",
      "execution_count": 10,
      "id": "fe1444b8",
      "metadata": {
        "colab": {
          "base_uri": "https://localhost:8080/"
        },
        "id": "fe1444b8",
        "outputId": "736346cd-76a6-4979-ebd6-cc58a68c16aa"
      },
      "outputs": [
        {
          "output_type": "stream",
          "name": "stderr",
          "text": [
            "Device set to use cpu\n"
          ]
        }
      ],
      "source": [
        "\n",
        "from transformers import pipeline\n",
        "\n",
        "# Carregar pipeline de classificação de emoções\n",
        "emotion_analyzer = pipeline(\"text-classification\", model=\"j-hartmann/emotion-english-distilroberta-base\", return_all_scores=True)\n"
      ]
    },
    {
      "cell_type": "markdown",
      "id": "0c2da745",
      "metadata": {
        "id": "0c2da745"
      },
      "source": [
        "## 🧠 Função para gerar resposta baseada na emoção"
      ]
    },
    {
      "cell_type": "code",
      "execution_count": 11,
      "id": "b6aa2bd2",
      "metadata": {
        "id": "b6aa2bd2"
      },
      "outputs": [],
      "source": [
        "\n",
        "def responder_emocional(mensagem):\n",
        "    # Detectar emoções\n",
        "    resultados = emotion_analyzer(mensagem)[0]\n",
        "\n",
        "    # Selecionar emoção com maior score\n",
        "    resultado_principal = max(resultados, key=lambda x: x['score'])\n",
        "    emocao = resultado_principal['label']\n",
        "    score = resultado_principal['score']\n",
        "\n",
        "    # Responder com base na emoção detectada\n",
        "    respostas = {\n",
        "        'joy': \"Que maravilha ouvir isso! 😃 Fico muito feliz por você!\",\n",
        "        'anger': \"Calma… parece que você está irritado 😠. Quer conversar sobre isso?\",\n",
        "        'sadness': \"Poxa 😢… sinto muito. Se quiser desabafar, estou aqui.\",\n",
        "        'fear': \"Entendo seu medo 😨. Às vezes conversar ajuda a aliviar.\",\n",
        "        'surprise': \"Uau! Que surpresa 😮. Me conta mais sobre isso!\",\n",
        "        'disgust': \"Eca 😖… parece algo bem desagradável. Quer falar mais sobre isso?\",\n",
        "        'neutral': \"Ok, entendi. Se quiser falar mais, pode contar comigo.\"\n",
        "    }\n",
        "\n",
        "    resposta = respostas.get(emocao.lower(), \"Interessante. Quer conversar mais sobre isso?\")\n",
        "\n",
        "    return f\"Emoção detectada: {emocao} ({score:.2f})\\nResposta: {resposta}\"\n"
      ]
    },
    {
      "cell_type": "markdown",
      "id": "c0caed82",
      "metadata": {
        "id": "c0caed82"
      },
      "source": [
        "## 💬 Testar a IA Emocional com Emoções"
      ]
    },
    {
      "cell_type": "code",
      "execution_count": 16,
      "id": "c156a554",
      "metadata": {
        "colab": {
          "base_uri": "https://localhost:8080/"
        },
        "id": "c156a554",
        "outputId": "2e18b818-9c52-400a-f63b-49a56be06501"
      },
      "outputs": [
        {
          "output_type": "stream",
          "name": "stdout",
          "text": [
            "Emoção detectada: anger (0.94)\n",
            "Resposta: Calma… parece que você está irritado 😠. Quer conversar sobre isso?\n"
          ]
        }
      ],
      "source": [
        "\n",
        "# Teste: escreva sua frase aqui\n",
        "mensagem_usuario = \"Estou muito irritado!\"\n",
        "\n",
        "# Resposta da IA\n",
        "print(responder_emocional(mensagem_usuario))\n"
      ]
    },
    {
      "cell_type": "markdown",
      "id": "f086a7f7",
      "metadata": {
        "id": "f086a7f7"
      },
      "source": [
        "## ✅ Conclusão"
      ]
    },
    {
      "cell_type": "markdown",
      "id": "89f081f4",
      "metadata": {
        "id": "89f081f4"
      },
      "source": [
        "\n",
        "Neste protótipo, detectamos **emoções específicas** e personalizar as respostas de acordo com elas.\n",
        "\n",
        "    "
      ]
    }
  ],
  "metadata": {
    "colab": {
      "provenance": [],
      "include_colab_link": true
    },
    "language_info": {
      "name": "python"
    },
    "kernelspec": {
      "name": "python3",
      "display_name": "Python 3"
    }
  },
  "nbformat": 4,
  "nbformat_minor": 5
}