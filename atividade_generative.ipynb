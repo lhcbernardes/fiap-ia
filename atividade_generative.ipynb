{
  "nbformat": 4,
  "nbformat_minor": 0,
  "metadata": {
    "colab": {
      "provenance": [],
      "authorship_tag": "ABX9TyM08THBYxgkQH8nwVoCwlIm",
      "include_colab_link": true
    },
    "kernelspec": {
      "name": "python3",
      "display_name": "Python 3"
    },
    "language_info": {
      "name": "python"
    }
  },
  "cells": [
    {
      "cell_type": "markdown",
      "metadata": {
        "id": "view-in-github",
        "colab_type": "text"
      },
      "source": [
        "<a href=\"https://colab.research.google.com/github/lhcbernardes/fiap-ia/blob/main/atividade_generative.ipynb\" target=\"_parent\"><img src=\"https://colab.research.google.com/assets/colab-badge.svg\" alt=\"Open In Colab\"/></a>"
      ]
    },
    {
      "cell_type": "code",
      "execution_count": null,
      "metadata": {
        "colab": {
          "base_uri": "https://localhost:8080/"
        },
        "id": "dA0qmGEI21nK",
        "outputId": "dafec70e-afdf-4348-f77e-22afd8980b23"
      },
      "outputs": [
        {
          "output_type": "stream",
          "name": "stdout",
          "text": [
            "Acurácia: 1.0\n"
          ]
        }
      ],
      "source": [
        "from sklearn.feature_extraction.text import CountVectorizer\n",
        "from sklearn.model_selection import train_test_split\n",
        "from sklearn.naive_bayes import MultinomialNB\n",
        "from sklearn.metrics import accuracy_score\n",
        "\n",
        "# Dados de exemplo ampliados e revisados (com termos mais distintos)\n",
        "textos = [\n",
        "    # Tecnologia (12 exemplos com palavras-chave mais específicas)\n",
        "    \"Apple lançou novo iPhone com câmera avançada\",\n",
        "    \"Samsung revela tablet com tela OLED e caneta digital\",\n",
        "    \"NVIDIA anuncia placa de vídeo com IA integrada\",\n",
        "    \"Google atualiza algoritmo de busca com machine learning\",\n",
        "    \"Microsoft lança Windows com novo sistema de segurança\",\n",
        "    \"Robô aspirador com mapeamento a laser chega ao mercado\",\n",
        "    \"Smartwatch monitora pressão arterial e oxigenação\",\n",
        "    \"Drone com câmera 8K e estabilização premium\",\n",
        "    \"Roteador Wi-Fi 6 com velocidade de 10Gbps lançado\",\n",
        "    \"Console de games com gráficos em 8K e SSD rápido\",\n",
        "    \"Aplicativo de edição de vídeos com IA ganha atualização\",\n",
        "    \"Câmera mirrorless com sensor full-frame é anunciada\",\n",
        "\n",
        "    # Esportes (12 exemplos com termos mais específicos)\n",
        "    \"Jogador marca gol de bicicleta no clássico estadual\",\n",
        "    \"Time vence campeonato com virada espetacular no segundo tempo\",\n",
        "    \"Atleta quebra recorde mundial nos 100m rasos em Tóquio\",\n",
        "    \"Seleção brasileira goleia em amistoso preparatório\",\n",
        "    \"Jogador de basquete faz enterrada espetacular no All-Star\",\n",
        "    \"Tênis: novato vence torneio Grand Slam em jogo de 5 sets\",\n",
        "    \"Piloto faz ultrapassagem arriscada na última volta\",\n",
        "    \"Equipe de vôlei vence após tie-break emocionante\",\n",
        "    \"Lutador vence por nocaute técnico no primeiro round\",\n",
        "    \"Nadador bate recorde olímpico nos 200m borboleta\",\n",
        "    \"Ciclista vence etapa de montanha no Tour de France\",\n",
        "    \"Ginasta executa rotina perfeita e leva ouro\",\n",
        "\n",
        "    # Política (12 exemplos com termos mais específicos)\n",
        "    \"Presidente sanciona lei de reforma tributária\",\n",
        "    \"Congresso aprova aumento do salário mínimo\",\n",
        "    \"Prefeito anuncia novo plano de mobilidade urbana\",\n",
        "    \"Partidos negociam coalizão para eleições municipais\",\n",
        "    \"Ministro da Economia anuncia medidas contra inflação\",\n",
        "    \"Senado discute projeto de regulamentação de redes sociais\",\n",
        "    \"Governo federal lança programa de habitação popular\",\n",
        "    \"Câmara aprova orçamento para educação e saúde\",\n",
        "    \"Nova legislação ambiental gera debates acalorados\",\n",
        "    \"Diplomatas negociam acordo comercial internacional\",\n",
        "    \"Tribunal decide sobre caso de corrupção política\",\n",
        "    \"Prefeitura implementa novo sistema de transporte público\"\n",
        "]\n",
        "\n",
        "categorias = [\n",
        "    \"tecnologia\", \"tecnologia\", \"tecnologia\", \"tecnologia\", \"tecnologia\", \"tecnologia\",\n",
        "    \"tecnologia\", \"tecnologia\", \"tecnologia\", \"tecnologia\", \"tecnologia\", \"tecnologia\",\n",
        "    \"esportes\", \"esportes\", \"esportes\", \"esportes\", \"esportes\", \"esportes\",\n",
        "    \"esportes\", \"esportes\", \"esportes\", \"esportes\", \"esportes\", \"esportes\",\n",
        "    \"política\", \"política\", \"política\", \"política\", \"política\", \"política\",\n",
        "    \"política\", \"política\", \"política\", \"política\", \"política\", \"política\"\n",
        "]\n",
        "\n",
        "# Convertendo textos em uma matriz de contagens de tokens\n",
        "vectorizer = CountVectorizer()\n",
        "X = vectorizer.fit_transform(textos)\n",
        "\n",
        "# Dividindo os dados em conjuntos de treinamento e teste\n",
        "X_train, X_test, y_train, y_test = train_test_split(X, categorias, test_size=0.2, random_state=20000)\n",
        "\n",
        "# Treinando o classificador\n",
        "clf = MultinomialNB()\n",
        "clf.fit(X_train, y_train)\n",
        "\n",
        "# Predição e Avaliação\n",
        "y_pred = clf.predict(X_test)\n",
        "print(f\"Acurácia: {accuracy_score(y_test, y_pred)}\")"
      ]
    }
  ]
}